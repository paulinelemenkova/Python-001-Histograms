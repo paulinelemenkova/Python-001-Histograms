{
 "cells": [
  {
   "cell_type": "code",
   "execution_count": 1,
   "metadata": {},
   "outputs": [
    {
     "ename": "NameError",
     "evalue": "name 'c' is not defined",
     "output_type": "error",
     "traceback": [
      "\u001b[0;31m---------------------------------------------------------------------------\u001b[0m",
      "\u001b[0;31mNameError\u001b[0m                                 Traceback (most recent call last)",
      "\u001b[0;32m<ipython-input-1-d1d2198d34bb>\u001b[0m in \u001b[0;36m<module>\u001b[0;34m\u001b[0m\n\u001b[1;32m      9\u001b[0m \u001b[0;34m\u001b[0m\u001b[0m\n\u001b[1;32m     10\u001b[0m \u001b[0msb\u001b[0m\u001b[0;34m.\u001b[0m\u001b[0mset_style\u001b[0m\u001b[0;34m(\u001b[0m\u001b[0;34m\"whitegrid\"\u001b[0m\u001b[0;34m)\u001b[0m\u001b[0;34m\u001b[0m\u001b[0;34m\u001b[0m\u001b[0m\n\u001b[0;32m---> 11\u001b[0;31m \u001b[0mc\u001b[0m\u001b[0;34m\u001b[0m\u001b[0;34m\u001b[0m\u001b[0m\n\u001b[0m\u001b[1;32m     12\u001b[0m \u001b[0msb\u001b[0m\u001b[0;34m.\u001b[0m\u001b[0mset_color_codes\u001b[0m\u001b[0;34m(\u001b[0m\u001b[0;34m)\u001b[0m\u001b[0;34m\u001b[0m\u001b[0;34m\u001b[0m\u001b[0m\n\u001b[1;32m     13\u001b[0m \u001b[0;34m\u001b[0m\u001b[0m\n",
      "\u001b[0;31mNameError\u001b[0m: name 'c' is not defined"
     ]
    }
   ],
   "source": [
    "#!/usr/bin/env python\n",
    "# coding: utf-8\n",
    "import os\n",
    "import pandas as pd\n",
    "from matplotlib import pyplot as plt\n",
    "import matplotlib.artist as martist\n",
    "from matplotlib.offsetbox import AnchoredText\n",
    "import seaborn as sb\n",
    "\n",
    "sb.set_style(\"whitegrid\")\n",
    "sb.set_context(\"paper\")\n",
    "sb.set_color_codes()\n",
    "\n",
    "os.chdir('/Users/pauline/Documents/Python')\n",
    "dfM = pd.read_csv(\"Tab-Morph.csv\")\n",
    "\n",
    "fig = plt.figure(figsize=(10.0, 6.0), dpi=300)\n",
    "fig.suptitle('Histogram plot of the observation sample distribution',\n",
    "             fontsize=10, fontweight='bold', x=0.5, y=0.99\n",
    "             )\n",
    "\n",
    "def add_at(ax, t, loc=2):\n",
    "    fp = dict(size=11)\n",
    "    _at = AnchoredText(t, loc=loc, prop=fp)\n",
    "    ax.add_artist(_at)\n",
    "    return _at\n",
    "\n",
    "# subplot 1\n",
    "ax = fig.add_subplot(221)\n",
    "sb.distplot(dfM['plate_maria'], kde=True, rug=True, hist=True,\n",
    "            norm_hist=True, color=\"xkcd:periwinkle blue\",\n",
    "            axlabel='Mariana Plate observations',\n",
    "            label='Mariana Plate', vertical=False\n",
    "            )\n",
    "add_at(ax, \"A\")\n",
    "\n",
    "# subplot 2\n",
    "ax = fig.add_subplot(222)\n",
    "sb.distplot(dfM['plate_pacif'], kde=True, rug=True, hist=True,\n",
    "            norm_hist=True, color=\"xkcd:aqua\",\n",
    "            axlabel='Pacific Plate observations',\n",
    "            label='Pacific Plate', vertical=False\n",
    "           )\n",
    "add_at(ax, \"B\")\n",
    "\n",
    "# subplot 3\n",
    "ax = fig.add_subplot(223)\n",
    "sb.distplot(dfM['plate_carol'], kde=True, rug=True, hist=True,\n",
    "            norm_hist=True, color=\"xkcd:pale violet\",\n",
    "            axlabel='Caroline Plate observations',\n",
    "            label='Caroline Plate', vertical=False\n",
    "           )\n",
    "add_at(ax, \"C\")\n",
    "\n",
    "# subplot 4\n",
    "ax = fig.add_subplot(224)\n",
    "sb.distplot(dfM['plate_phill'],kde=True, rug=True, hist=True,\n",
    "            norm_hist=True, color=\"xkcd:rose pink\",\n",
    "            axlabel='Philippine Plate observations',\n",
    "            label='Philippine Plate', vertical=False\n",
    "           )\n",
    "add_at(ax, \"D\")\n",
    "\n",
    "# visualize\n",
    "plt.tight_layout()\n",
    "plt.subplots_adjust(top=0.92, bottom=0.08,\n",
    "                    left=0.10, right=0.95,\n",
    "                    hspace=0.25, wspace=0.35\n",
    "                    )\n",
    "fig.savefig('plot_Hist.png', dpi=300)\n",
    "plt.show()"
   ]
  },
  {
   "cell_type": "code",
   "execution_count": null,
   "metadata": {},
   "outputs": [],
   "source": []
  }
 ],
 "metadata": {
  "kernelspec": {
   "display_name": "Python 3",
   "language": "python",
   "name": "python3"
  },
  "language_info": {
   "codemirror_mode": {
    "name": "ipython",
    "version": 3
   },
   "file_extension": ".py",
   "mimetype": "text/x-python",
   "name": "python",
   "nbconvert_exporter": "python",
   "pygments_lexer": "ipython3",
   "version": "3.7.3"
  }
 },
 "nbformat": 4,
 "nbformat_minor": 2
}
